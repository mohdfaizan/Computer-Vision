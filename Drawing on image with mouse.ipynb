{
 "cells": [
  {
   "cell_type": "code",
   "execution_count": 5,
   "metadata": {},
   "outputs": [],
   "source": [
    "############################\n",
    "######## FUNCTION ##########\n",
    "############################\n",
    "import cv2\n",
    "def draw_circle(event,x,y,flags,params):\n",
    "    if event == cv2.EVENT_LBUTTONDOWN:\n",
    "        cv2.circle(image,(x,y),100,(0,255,0),-1)\n",
    "\n",
    "cv2.namedWindow('my_image')\n",
    "\n",
    "cv2.setMouseCallback('my_image',draw_circle)\n",
    "\n",
    "\n",
    "############################\n",
    "## SHOWING IMAGE WITH CV ###\n",
    "############################\n",
    "import numpy as np\n",
    "image = np.zeros((512,512,3))\n",
    "\n",
    "while True:\n",
    "    \n",
    "    cv2.imshow('my_image',image)\n",
    "    \n",
    "    if cv2.waitKey(20) & 0xff == 27:\n",
    "        break\n",
    "        \n",
    "cv2.destroyAllWindows()"
   ]
  },
  {
   "cell_type": "code",
   "execution_count": 3,
   "metadata": {},
   "outputs": [],
   "source": [
    "import cv2\n",
    "import numpy as np\n",
    "# value of drawign will be False when left button is up else it ill be True\n",
    "drawing=False\n",
    "ix,iy = -1,-1\n",
    "\n",
    "def draw(event,x,y,flag,params):\n",
    "    global ix,iy,drawing\n",
    "    if event==cv2.EVENT_LBUTTONDOWN:\n",
    "        drawing = True\n",
    "        ix,iy = x,y\n",
    "    elif event==cv2.EVENT_MOUSEMOVE:\n",
    "        if drawing:\n",
    "            cv2.rectangle(img,(ix,iy),(x,y),(0,0,255),-1)\n",
    "    elif event==cv2.EVENT_LBUTTONUP:\n",
    "        drawing = False\n",
    "        cv2.rectangle(img,(ix,iy),(x,y),(0,0,255),-1)\n",
    "    \n",
    "cv2.namedWindow('img')\n",
    "\n",
    "cv2.setMouseCallback('img',draw)\n",
    "\n",
    "img = np.zeros((512,512,3))\n",
    "\n",
    "while True:\n",
    "    \n",
    "    cv2.imshow('img',img)\n",
    "    if cv2.waitKey(1) & 0xff == 27:\n",
    "        break\n",
    "cv2.destroyAllWindows()\n",
    "\n"
   ]
  },
  {
   "cell_type": "code",
   "execution_count": null,
   "metadata": {},
   "outputs": [],
   "source": []
  }
 ],
 "metadata": {
  "kernelspec": {
   "display_name": "Python 3",
   "language": "python",
   "name": "python3"
  },
  "language_info": {
   "codemirror_mode": {
    "name": "ipython",
    "version": 3
   },
   "file_extension": ".py",
   "mimetype": "text/x-python",
   "name": "python",
   "nbconvert_exporter": "python",
   "pygments_lexer": "ipython3",
   "version": "3.6.6"
  }
 },
 "nbformat": 4,
 "nbformat_minor": 2
}
